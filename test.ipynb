{
 "cells": [
  {
   "cell_type": "code",
   "execution_count": 2,
   "metadata": {},
   "outputs": [],
   "source": [
    "from __future__ import division\n",
    "\n",
    "import os\n",
    "import socket\n",
    "import timeit\n",
    "from datetime import datetime\n",
    "from tensorboardX import SummaryWriter\n",
    "\n",
    "# PyTorch includes\n",
    "import torch\n",
    "import torch.optim as optim\n",
    "from torchvision import transforms\n",
    "from torch.utils.data import DataLoader\n",
    "\n",
    "# Custom includes\n",
    "from dataloaders import davis_2016 as db\n",
    "from dataloaders import custom_transforms as tr\n",
    "from util import visualize as viz\n",
    "import scipy.misc as sm\n",
    "import networks.vgg_osvos as vo\n",
    "from layers.osvos_layers import class_balanced_cross_entropy_loss\n",
    "from dataloaders.helpers import *\n",
    "from mypath import Path\n",
    "import imageio"
   ]
  },
  {
   "cell_type": "code",
   "execution_count": 3,
   "metadata": {},
   "outputs": [
    {
     "name": "stdout",
     "output_type": "stream",
     "text": [
      "Constructing OSVOS architecture..\n",
      "Initializing weights..\n",
      "Done initializing ImageSets/480p/train Dataset\n",
      "Done initializing ImageSets/480p/val Dataset\n"
     ]
    },
    {
     "name": "stderr",
     "output_type": "stream",
     "text": [
      "/tmp/ipykernel_90083/2263541693.py:16: FutureWarning: You are using `torch.load` with `weights_only=False` (the current default value), which uses the default pickle module implicitly. It is possible to construct malicious pickle data which will execute arbitrary code during unpickling (See https://github.com/pytorch/pytorch/blob/main/SECURITY.md#untrusted-models for more details). In a future release, the default value for `weights_only` will be flipped to `True`. This limits the functions that could be executed during unpickling. Arbitrary objects will no longer be allowed to be loaded via this mode unless they are explicitly allowlisted by the user via `torch.serialization.add_safe_globals`. We recommend you start setting `weights_only=True` for any use case where you don't have full control of the loaded file. Please open an issue on GitHub for any issues related to this experimental feature.\n",
      "  net.load_state_dict(torch.load('models/blackswan_epoch-499.pth',\n"
     ]
    }
   ],
   "source": [
    "# Setting of parameters\n",
    "if 'SEQ_NAME' not in os.environ.keys():\n",
    "    seq_name = 'blackswan'\n",
    "else:\n",
    "    seq_name = str(os.environ['SEQ_NAME'])\n",
    "db_root_dir = Path.db_root_dir()\n",
    "save_dir = Path.save_root_dir()\n",
    "\n",
    "if not os.path.exists(save_dir):\n",
    "    os.makedirs(os.path.join(save_dir))\n",
    "\n",
    "gpu_id = 0\n",
    "device = torch.device(\"cuda:\"+str(gpu_id) if torch.cuda.is_available() else \"cpu\")\n",
    "\n",
    "net = vo.OSVOS(pretrained=0)\n",
    "net.load_state_dict(torch.load('models/blackswan_epoch-499.pth',\n",
    "                               map_location=lambda storage, loc: storage))\n",
    "\n",
    "composed_transforms = transforms.Compose([tr.RandomHorizontalFlip(),\n",
    "                                          tr.ScaleNRotate(rots=(-30, 30), scales=(.75, 1.25)),\n",
    "                                          tr.ToTensor()])\n",
    "\n",
    "# Training dataset and its iterator\n",
    "db_train = db.DAVIS2016(train=True, db_root_dir=db_root_dir, transform=composed_transforms)\n",
    "trainloader = DataLoader(db_train, batch_size=1, shuffle=True, num_workers=1)\n",
    "\n",
    "# Testing dataset and its iterator\n",
    "db_test = db.DAVIS2016(train=False, db_root_dir=db_root_dir, transform=tr.ToTensor(), seq_name=seq_name)\n",
    "testloader = DataLoader(db_test, batch_size=1, shuffle=False, num_workers=1)"
   ]
  },
  {
   "cell_type": "code",
   "execution_count": 4,
   "metadata": {},
   "outputs": [
    {
     "name": "stdout",
     "output_type": "stream",
     "text": [
      "JPEGImages/480p/bmx-bumps/00017.jpg\n",
      "./DAVIS/JPEGImages/480p/bmx-bumps/00017.jpg\n"
     ]
    }
   ],
   "source": [
    "sample = db_train[99]\n",
    "img = sample['image']\n",
    "gt = sample['gt']\n"
   ]
  },
  {
   "cell_type": "code",
   "execution_count": null,
   "metadata": {},
   "outputs": [],
   "source": []
  }
 ],
 "metadata": {
  "kernelspec": {
   "display_name": "cjpt",
   "language": "python",
   "name": "python3"
  },
  "language_info": {
   "codemirror_mode": {
    "name": "ipython",
    "version": 3
   },
   "file_extension": ".py",
   "mimetype": "text/x-python",
   "name": "python",
   "nbconvert_exporter": "python",
   "pygments_lexer": "ipython3",
   "version": "3.11.0"
  }
 },
 "nbformat": 4,
 "nbformat_minor": 2
}
